{
  "nbformat": 4,
  "nbformat_minor": 0,
  "metadata": {
    "colab": {
      "name": "Arboles_1358.ipynb",
      "provenance": [],
      "authorship_tag": "ABX9TyMFrxP1qxttgQXQW2B7EBNN",
      "include_colab_link": true
    },
    "kernelspec": {
      "name": "python3",
      "display_name": "Python 3"
    },
    "language_info": {
      "name": "python"
    }
  },
  "cells": [
    {
      "cell_type": "markdown",
      "metadata": {
        "id": "view-in-github",
        "colab_type": "text"
      },
      "source": [
        "<a href=\"https://colab.research.google.com/github/CristianBarboza/EDD1358/blob/master/Arboles_1358.ipynb\" target=\"_parent\"><img src=\"https://colab.research.google.com/assets/colab-badge.svg\" alt=\"Open In Colab\"/></a>"
      ]
    },
    {
      "cell_type": "code",
      "metadata": {
        "id": "ZBrARzz2twoL"
      },
      "source": [
        "class BinaryNode:\n",
        "  def __init__(self , value, left = None, rigth = None):\n",
        "    self.data = value \n",
        "    self.left = left\n",
        "    self.rigth = rigth"
      ],
      "execution_count": 3,
      "outputs": []
    },
    {
      "cell_type": "code",
      "metadata": {
        "id": "3BMXu3pWu_RG"
      },
      "source": [
        "class TernaryNode:\n",
        "  def __init__(self , value, left = None,center = None, rigth = None):\n",
        "    self.data = value \n",
        "    self.left = left \n",
        "    self.center = center \n",
        "    self.rigth =rigth"
      ],
      "execution_count": 8,
      "outputs": []
    },
    {
      "cell_type": "markdown",
      "metadata": {
        "id": "zCjgyvNl7wlt"
      },
      "source": [
        ""
      ]
    },
    {
      "cell_type": "code",
      "metadata": {
        "id": "8w82aKl9vGSO"
      },
      "source": [
        "root = BinaryNode(\"R\",BinaryNode(\"C\"),BinaryNode(\"H\"))\n",
        "print(root.left.data)"
      ],
      "execution_count": null,
      "outputs": []
    },
    {
      "cell_type": "code",
      "metadata": {
        "id": "K04D12O-wJAu"
      },
      "source": [
        "root = TernaryNode(4,TernaryNode(3,TernaryNode(5,left=TernaryNode(2)),\\\n",
        "                   TernaryNode(5),TernaryNode(2)), None, TernaryNode(5) )\n",
        "\n",
        "root2=BinaryNode(\"Santi\",None,BinaryNode(\"Jesus\",BinaryNode(\"pedro\",None,BinaryNode(\"Juan\"))))"
      ],
      "execution_count": 27,
      "outputs": []
    },
    {
      "cell_type": "code",
      "metadata": {
        "colab": {
          "base_uri": "https://localhost:8080/"
        },
        "id": "6srtj6Mrx41n",
        "outputId": "d7d55688-2265-4a7e-9346-0ddac4ec8fd7"
      },
      "source": [
        "print(root.left.left.left.data)\n",
        "print(\".-.-.-.-.-.-.-.\")\n",
        "aux =root\n",
        "while aux.left !=None:\n",
        "  aux=aux.left\n",
        "print(aux.data)  \n",
        "print(\".-.-.-.-.-.-.-.\")\n",
        "print(root.left.rigth.data)\n",
        "print(\".-.-.-.-.-.-.-.\")\n",
        "print(root2.rigth.left.rigth.data)"
      ],
      "execution_count": 30,
      "outputs": [
        {
          "output_type": "stream",
          "name": "stdout",
          "text": [
            "2\n",
            ".-.-.-.-.-.-.-.\n",
            "2\n",
            ".-.-.-.-.-.-.-.\n",
            "2\n",
            ".-.-.-.-.-.-.-.\n",
            "Juan\n"
          ]
        }
      ]
    }
  ]
}