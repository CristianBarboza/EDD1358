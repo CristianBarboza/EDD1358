{
  "nbformat": 4,
  "nbformat_minor": 0,
  "metadata": {
    "colab": {
      "name": "ColasADT_1358.ipynb",
      "provenance": [],
      "collapsed_sections": [],
      "authorship_tag": "ABX9TyNHANRszcZL+Zyn6+1Rvz0l",
      "include_colab_link": true
    },
    "kernelspec": {
      "name": "python3",
      "display_name": "Python 3"
    },
    "language_info": {
      "name": "python"
    }
  },
  "cells": [
    {
      "cell_type": "markdown",
      "metadata": {
        "id": "view-in-github",
        "colab_type": "text"
      },
      "source": [
        "<a href=\"https://colab.research.google.com/github/CristianBarboza/EDD1358/blob/master/ColasADT_1358.ipynb\" target=\"_parent\"><img src=\"https://colab.research.google.com/assets/colab-badge.svg\" alt=\"Open In Colab\"/></a>"
      ]
    },
    {
      "cell_type": "markdown",
      "metadata": {
        "id": "4txRcmEENc01"
      },
      "source": [
        "Clase 17 de noviembre del 2021"
      ]
    },
    {
      "cell_type": "code",
      "metadata": {
        "id": "f2lJmjYmsyPi"
      },
      "source": [
        "class  QueueADT:\n",
        "  def __init__( self ):\n",
        "    self.__data = []\n",
        "\n",
        "  def is_empty( self ):\n",
        "    return len( self.__data ) == 0\n",
        "  \n",
        "  def length( self ):\n",
        "    return len( self.__data )\n",
        "\n",
        "\n",
        "  def enqueue( self , elem):\n",
        "    self.__data.append( elem ) \n",
        "\n",
        "  def dequeue( self ):\n",
        "    if not self.is_empty():\n",
        "      return self.__data.pop(0)\n",
        "\n",
        "  def to_string( self ):\n",
        "    for elem in self.__data:\n",
        "     print(  f\"| {elem} |<--\", end = \" \"  )\n",
        "    print(\"\")       "
      ],
      "execution_count": 2,
      "outputs": []
    },
    {
      "cell_type": "code",
      "metadata": {
        "id": "pg9eO3MyurqM",
        "colab": {
          "base_uri": "https://localhost:8080/"
        },
        "outputId": "a48f58c5-7982-4971-9994-67bd4d55f38e"
      },
      "source": [
        "cola = QueueADT()\n",
        "print(\"Esta vacio?\",cola.is_empty())\n",
        "cola.enqueue(40)\n",
        "cola.enqueue(30)\n",
        "cola.enqueue(20)\n",
        "cola.enqueue(10)\n",
        "cola.enqueue(25)\n",
        "cola.to_string()\n",
        "siguiente =cola.dequeue()\n",
        "print(\"atendiendo a :\" , siguiente )\n",
        "cola.to_string()\n",
        "\n",
        "\n"
      ],
      "execution_count": 3,
      "outputs": [
        {
          "output_type": "stream",
          "name": "stdout",
          "text": [
            "Esta vacio? True\n",
            "| 40 |<-- | 30 |<-- | 20 |<-- | 10 |<-- | 25 |<-- \n",
            "atendiendo a : 40\n",
            "| 30 |<-- | 20 |<-- | 10 |<-- | 25 |<-- \n"
          ]
        }
      ]
    },
    {
      "cell_type": "markdown",
      "metadata": {
        "id": "XbO53K0WNSkW"
      },
      "source": [
        "Clase 19 de noviembre de 2021"
      ]
    },
    {
      "cell_type": "code",
      "metadata": {
        "id": "0OkfFkDL-cVN"
      },
      "source": [
        "class colaPrioridadAcotada:\n",
        "  def __init__( self , niveles):\n",
        "    self.__data = [QueueADT() for x in range(niveles)]\n",
        "    self.length = 0\n",
        "\n",
        "  def is_empty(self):\n",
        "    return self.length == 0\n",
        "\n",
        "\n",
        "  def length( self ):\n",
        "    return self.length\n",
        "\n",
        "\n",
        "  def enqueue( self , prioridad ,elem ):\n",
        "    if prioridad >= 0 and prioridad < len(self.__data):\n",
        "      self.__data[prioridad].enqueue( elem )\n",
        "      self.length += 1\n",
        "\n",
        "  def to_string(self):\n",
        "    for p in range(len(self.__data)):\n",
        "      print(f\"prioridad {p} = \",end=\"\")\n",
        "      self.__data[p].to_string()\n",
        "\n",
        "  def dequeue( self ):\n",
        "    for nivel in self.__data:\n",
        "      if not nivel.is_empty():\n",
        "        self.length -=1\n",
        "        return nivel.dequeue()\n",
        "        \n"
      ],
      "execution_count": 4,
      "outputs": []
    },
    {
      "cell_type": "code",
      "metadata": {
        "id": "Uj_ItCz6ClPL",
        "colab": {
          "base_uri": "https://localhost:8080/"
        },
        "outputId": "df4b36f3-f22c-4521-be1a-4ec5e9d24385"
      },
      "source": [
        "cpa = colaPrioridadAcotada( 7 )\n",
        "cpa.enqueue(4,\"A\")\n",
        "cpa.enqueue(2,\"Z\")\n",
        "cpa.enqueue(4,\"N\")\n",
        "cpa.enqueue(1,\"P\")\n",
        "cpa.enqueue(6,\"A\")\n",
        "cpa.to_string()\n",
        "print(\".-.-.-.-.-.-.-.-.\")\n",
        "sig0 =cpa.dequeue()\n",
        "cpa.to_string()\n",
        "print(\".-.-.-.-.-.-.-.-.\")\n",
        "sig1=cpa.dequeue()\n",
        "cpa.to_string()\n"
      ],
      "execution_count": 5,
      "outputs": [
        {
          "output_type": "stream",
          "name": "stdout",
          "text": [
            "prioridad 0 = \n",
            "prioridad 1 = | P |<-- \n",
            "prioridad 2 = | Z |<-- \n",
            "prioridad 3 = \n",
            "prioridad 4 = | A |<-- | N |<-- \n",
            "prioridad 5 = \n",
            "prioridad 6 = | A |<-- \n",
            ".-.-.-.-.-.-.-.-.\n",
            "prioridad 0 = \n",
            "prioridad 1 = \n",
            "prioridad 2 = | Z |<-- \n",
            "prioridad 3 = \n",
            "prioridad 4 = | A |<-- | N |<-- \n",
            "prioridad 5 = \n",
            "prioridad 6 = | A |<-- \n",
            ".-.-.-.-.-.-.-.-.\n",
            "prioridad 0 = \n",
            "prioridad 1 = \n",
            "prioridad 2 = \n",
            "prioridad 3 = \n",
            "prioridad 4 = | A |<-- | N |<-- \n",
            "prioridad 5 = \n",
            "prioridad 6 = | A |<-- \n"
          ]
        }
      ]
    },
    {
      "cell_type": "code",
      "metadata": {
        "id": "pq9AOi0qFV2d"
      },
      "source": [
        "class ColaDePriridad:\n",
        "  def __init__( self ):\n",
        "    self.__data=[]\n",
        "    self.__length = 0\n",
        "  \n",
        "  def is_empty(self):\n",
        "    return self.length == 0\n",
        "\n",
        "\n",
        "  def length( self ):\n",
        "    return self.length\n",
        "  #utilizar la funcion insert de el tipo de dato list de python.\n",
        "  #para mantener ordenado los niveles de prioridad.\n",
        "  def enqueue(self , prioridad ,elem):\n",
        "    existe = False\n",
        "    indice = 0\n",
        "    for index in range( len(self.__data) ):\n",
        "      if self.__data[index][\"p\"] == prioridad:\n",
        "        existe = True \n",
        "        indice = index\n",
        "        break\n",
        "    if existe:\n",
        "      self.__data[indice][\"cola\"].enqueue(elem)\n",
        "    else:\n",
        "      self.__data.append({ \"p\":prioridad  , \"cola\":QueueADT()})  \n",
        "      self.__data[-1][\"cola\"].enqueue(elem)   \n",
        "\n",
        "  def to_string( self ):\n",
        "    for level in self.__data:\n",
        "      print( level[\"p\"] ,end=\"=\")\n",
        "      level[\"cola\"].to_string()    "
      ],
      "execution_count": 18,
      "outputs": []
    },
    {
      "cell_type": "markdown",
      "metadata": {
        "id": "09bve8ZvaTMo"
      },
      "source": [
        "Clase 22 de noviembre 2021"
      ]
    },
    {
      "cell_type": "code",
      "metadata": {
        "colab": {
          "base_uri": "https://localhost:8080/"
        },
        "id": "8f_b9K_laHhy",
        "outputId": "09e94e87-a4c8-4037-f4a8-4c25caaac81f"
      },
      "source": [
        "cp = ColaDePriridad()\n",
        "cp.enqueue(2,\"A\")\n",
        "cp.enqueue(3,\"Z\")\n",
        "cp.enqueue(4,\"R\")\n",
        "cp.enqueue(4,\"Y\")\n",
        "cp.enqueue(1,\"B\")\n",
        "cp.enqueue(2,\"M\")\n",
        "cp.to_string()"
      ],
      "execution_count": 21,
      "outputs": [
        {
          "output_type": "stream",
          "name": "stdout",
          "text": [
            "2=| A |<-- | M |<-- \n",
            "3=| Z |<-- \n",
            "4=| R |<-- | Y |<-- \n",
            "1=| B |<-- \n"
          ]
        }
      ]
    }
  ]
}